{
  "nbformat": 4,
  "nbformat_minor": 0,
  "metadata": {
    "colab": {
      "name": "tokenizer.ipynb",
      "provenance": [],
      "authorship_tag": "ABX9TyNbdB0flj+C5OOSw/HgcRcD",
      "include_colab_link": true
    },
    "kernelspec": {
      "name": "python3",
      "display_name": "Python 3"
    },
    "language_info": {
      "name": "python"
    }
  },
  "cells": [
    {
      "cell_type": "markdown",
      "metadata": {
        "id": "view-in-github",
        "colab_type": "text"
      },
      "source": [
        "<a href=\"https://colab.research.google.com/github/Iewandowski/LP_Tokenizer/blob/main/tokenizer.ipynb\" target=\"_parent\"><img src=\"https://colab.research.google.com/assets/colab-badge.svg\" alt=\"Open In Colab\"/></a>"
      ]
    },
    {
      "cell_type": "code",
      "execution_count": null,
      "metadata": {
        "id": "OpMWhUDuDy1P"
      },
      "outputs": [],
      "source": [
        "tokens = {1: [\"IDENT\", \"variavel\"],\n",
        "          2: [\"INT_LIT\", \"inteiro\"],\n",
        "          3: [\"LPAREN\", \"(\"],\n",
        "          4: [\"RPAREN\", \")\"], \n",
        "          5: [\"ADD_OP\", \"+\"], \n",
        "          6: [\"SUB_OP\", \"-\"],\n",
        "          7: [\"MUL_OP\", \"*\"], \n",
        "          8: [\"DIV_OP\", \"/\"],\n",
        "          9: [\"GT_OP\", \">\"],\n",
        "          10: [\"LT_OP\", \"<\"],\n",
        "          11: [\"EQ_OP\", \"==\"],\n",
        "          12: [\"ASSIGN_OP\", \":=\"]\n",
        "          }"
      ]
    }
  ]
}